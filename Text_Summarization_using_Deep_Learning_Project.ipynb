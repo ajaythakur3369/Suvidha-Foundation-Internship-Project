{
  "nbformat": 4,
  "nbformat_minor": 0,
  "metadata": {
    "colab": {
      "provenance": [],
      "authorship_tag": "ABX9TyNjW1e1eM6rMNy2yq18OK4G",
      "include_colab_link": true
    },
    "kernelspec": {
      "name": "python3",
      "display_name": "Python 3"
    },
    "language_info": {
      "name": "python"
    }
  },
  "cells": [
    {
      "cell_type": "markdown",
      "metadata": {
        "id": "view-in-github",
        "colab_type": "text"
      },
      "source": [
        "<a href=\"https://colab.research.google.com/github/ajaythakur3369/Suvidha-Foundation-Internship-Project/blob/main/Text_Summarization_using_Deep_Learning_Project.ipynb\" target=\"_parent\"><img src=\"https://colab.research.google.com/assets/colab-badge.svg\" alt=\"Open In Colab\"/></a>"
      ]
    },
    {
      "cell_type": "markdown",
      "source": [
        "# **Project Name - Text Summarization using Deep Learning**\n",
        "## **Developed By - Ajay Thakur (2016kuec2026@iiitkota.ac.in)**\n",
        "## **Branch Name - Electronics and Communication Engineering**\n",
        "## **Institute Name - Indian Institute of Information Technology Kota (An Institute of National Importance under an Act of Parliament)**\n",
        "## **Submitted To - Suvidha Foundation**\n",
        "## **Project Link (GitHub) - [Click here](https://github.com/ajaythakur3369/Suvidha-Foundation-Internship-Project)**\n",
        "## **Project Link (Drive) - [Click here](https://colab.research.google.com/drive/1p7cDfjgHVhUuBwOZBy-esVdpGvL2MNL0)**"
      ],
      "metadata": {
        "id": "DkS8wHjj3W7L"
      }
    },
    {
      "cell_type": "markdown",
      "source": [
        "# **GitHub Link -**"
      ],
      "metadata": {
        "id": "QLgEGgJh3-iJ"
      }
    },
    {
      "cell_type": "markdown",
      "source": [
        "https://github.com/ajaythakur3369/Ccc"
      ],
      "metadata": {
        "id": "K8TxBaWO3_K9"
      }
    },
    {
      "cell_type": "markdown",
      "source": [
        "# ***Let's Begin !***"
      ],
      "metadata": {
        "id": "JiQNQc124KIA"
      }
    },
    {
      "cell_type": "markdown",
      "source": [
        "### **Import Libraries**"
      ],
      "metadata": {
        "id": "9LqnPJIV4LCs"
      }
    },
    {
      "cell_type": "code",
      "execution_count": 1,
      "metadata": {
        "id": "PBiO8o-2DyQl"
      },
      "outputs": [],
      "source": [
        "# Imported all the required libraries\n",
        "import pandas as pd\n",
        "import numpy as np\n",
        "import re\n",
        "\n",
        "# !pip3 install os\n",
        "from os import listdir\n",
        "import string\n",
        "from pickle import dump,load"
      ]
    },
    {
      "cell_type": "markdown",
      "source": [
        "### **Loading the Data**"
      ],
      "metadata": {
        "id": "noJYLRrPED32"
      }
    },
    {
      "cell_type": "code",
      "source": [
        "class LoadData:\n",
        "    def __init__(self, directory):\n",
        "        self.directory = directory\n",
        "\n",
        "    def load_stories(self):\n",
        "        \"\"\"\n",
        "        Load the data and store it in a list of dictionaries\n",
        "\n",
        "        \"\"\"\n",
        "        all_stories = list()\n",
        "\n",
        "        def load_doc(filename):\n",
        "            \"\"\"\n",
        "            Return the data from a given filename\n",
        "            \"\"\"\n",
        "            file = open(filename, encoding = 'utf-8')\n",
        "            text = file.read()\n",
        "            file.close()\n",
        "            return text\n",
        "\n",
        "        def split_story(doc):\n",
        "            \"\"\"\n",
        "            Split story from summaries based on the separater -> \"@highlight\"\n",
        "            \"\"\"\n",
        "\n",
        "            index = doc.find('@highlight')\n",
        "            story, highlights = doc[:index], doc[index:].split('@highlight')\n",
        "            highlights = [h.strip() for h in highlights if len(h) > 0]\n",
        "            return story, highlights\n",
        "\n",
        "        list_of_files= listdir(self.directory) # below 1000\n",
        "        for name in list_of_files[:8]:\n",
        "            filename = self.directory + '/' + name\n",
        "            doc = load_doc(filename)\n",
        "            story, highlights = split_story(doc)\n",
        "            all_stories.append({'story': story, 'highlights': highlights})\n",
        "\n",
        "        return all_stories"
      ],
      "metadata": {
        "id": "mzSbzvjuEFMG"
      },
      "execution_count": 2,
      "outputs": []
    },
    {
      "cell_type": "code",
      "source": [
        "# Access the Drive from Colab, for accessing all the required files\n",
        "from google.colab import drive\n",
        "drive.mount('/content/drive')"
      ],
      "metadata": {
        "colab": {
          "base_uri": "https://localhost:8080/"
        },
        "id": "P-p6iASKM3Eb",
        "outputId": "cd03a7f2-97bc-4518-e66a-3d0c23129962"
      },
      "execution_count": 3,
      "outputs": [
        {
          "output_type": "stream",
          "name": "stdout",
          "text": [
            "Mounted at /content/drive\n"
          ]
        }
      ]
    },
    {
      "cell_type": "code",
      "source": [
        "# Path, for accessing all the required files from Drive\n",
        "# path = '/content/drive/MyDrive/folders/cnn_stories_tokenized'\n",
        "DIR_PATH = '/content/drive/MyDrive/folders/cnn_stories_tokenized' # ******************************#cnn_stories_tokenized\n",
        "# DIR_PATH = '/content/drive/MyDrive/folders/cnn_dailymail'"
      ],
      "metadata": {
        "id": "rlyErugrNBlO"
      },
      "execution_count": 4,
      "outputs": []
    },
    {
      "cell_type": "code",
      "source": [
        "# = \"/home/nikhil/Downloads/cnn/stories\"\n",
        "# DIR_PATH = \"\\home\\DELL\\Downloads\\cnn_stories_tokenized\\cnn_stories_tokenized\"\n",
        "obj = LoadData(DIR_PATH)\n",
        "stories = obj.load_stories()"
      ],
      "metadata": {
        "id": "vtc9pONrEONA"
      },
      "execution_count": 5,
      "outputs": []
    },
    {
      "cell_type": "code",
      "source": [
        "len(stories)"
      ],
      "metadata": {
        "id": "4rMi11A4EO-Q",
        "colab": {
          "base_uri": "https://localhost:8080/"
        },
        "outputId": "e41beb96-6a13-4892-81d4-6013baa0575e"
      },
      "execution_count": 6,
      "outputs": [
        {
          "output_type": "execute_result",
          "data": {
            "text/plain": [
              "8"
            ]
          },
          "metadata": {},
          "execution_count": 6
        }
      ]
    },
    {
      "cell_type": "code",
      "source": [
        "print(stories[7]['highlights']) # 10\n",
        "print()\n",
        "print(stories[7]['story']) # 10"
      ],
      "metadata": {
        "id": "x-2M9pnpEQts",
        "colab": {
          "base_uri": "https://localhost:8080/"
        },
        "outputId": "edf54c35-4511-45e3-995f-73a09dbf0ae0"
      },
      "execution_count": 7,
      "outputs": [
        {
          "output_type": "stream",
          "name": "stdout",
          "text": [
            "['Arafat Jaradat had been detained for five days when he died', 'Palestinian president says Israelis killed him', 'Israeli officials say he had previous injuries , call for calm', 'U.N. calls for transparent investigation into death']\n",
            "\n",
            "Jerusalem -LRB- CNN -RRB- -- Tensions in the West Bank are heightened after the recent death in an Israeli prison of a 30-year-old Palestinian arrested last week .\n",
            "\n",
            "Arafat Jaradat died Saturday , inciting Palestinian officials to once again decry conditions in Israeli prisons .\n",
            "\n",
            "`` The prisoner martyr Jaradat went to prison to come back a corpse , but we are determined to find out how it was done and who did it , '' Palestinian Authority President Mahmoud Abbas said Monday , according to the state news agency WAFA . `` We know how we will act , and we will not let them -LRB- Israelis -RRB- drag us to their square , and they should bear the responsibility . ''\n",
            "\n",
            "The United Nations weighed in Monday , calling for a thorough probe into Jaradat 's death .\n",
            "\n",
            "`` The United Nations expects the autopsy to be followed by an independent and transparent investigation into the circumstances of Mr. Jaradat 's death , the results of which should be made public as soon as possible , '' Robert Serry , the U.N. special coordinator for the Middle East peace process , said in a written statement .\n",
            "\n",
            "Israel said doctors had worked to save the inmate , who was suffering from previous injuries . Palestinian officials said Jaradat was tortured .\n",
            "\n",
            "Palestinians in Israeli prisons -- about 4,500 people -- took part in a hunger strike Sunday , and crowds protested in the streets of the West Bank as Palestinian officials called for an international investigation into an inmate 's death .\n",
            "\n",
            "Palestinian officials told CNN that Jaradat is the 203rd Palestinian to die in Israeli prisons since 1967 .\n",
            "\n",
            "He was buried Monday near his home in the West Bank as dozens of masked members of al-Aqsa Martyr 's Brigade -- the armed wing of Fatah -- fired rifles in the air in protest .\n",
            "\n",
            "`` They killed him only in five days , '' his sister told Palestinian TV . `` They kidnapped him from life . Oh , my dear little brother ! Oh , my love ! ''\n",
            "\n",
            "A Palestinian official sent a warning Sunday to U.S. President Barack Obama , who plans to make his first trip to Israel as president next month .\n",
            "\n",
            "`` If President Obama wants to visit the region peacefully , he should exert pressure on Israel to release the prisoners -- especially the ones who are on hunger strike -- or else he will visit while Palestine is on fire , '' Minister of Prisoner Affairs Issa Qaraqe said .\n",
            "\n",
            "Israeli officials Sunday called on the Palestinian Authority to calm the territories , where there have been large protests in recent days over the conditions of Palestinian prisoners .\n",
            "\n",
            "Israeli Prime Minister Benjamin Netanyahu 's liaison with Palestinians , Yitzhak Molco , passed on the demand for calm to the Palestinian Authority , Israeli government officials said .\n",
            "\n",
            "Jaradat 's death came amid a fury -- and a series of questions -- surrounding the death of a prisoner in 2010 , referred to as `` Prisoner X. '' Details came to light in recent days after a court document was released .\n",
            "\n",
            "Jaradat had been held for interrogation since Monday for a 2011 incident in which an Israeli citizen was injured by rock-throwing Palestinian protestors .\n",
            "\n",
            "Jaradat confessed , Israeli security sources said .\n",
            "\n",
            "Human Rights Watch called on Israel on Saturday to `` immediately charge or release Palestinians detained without charge or trial for prolonged periods . ''\n",
            "\n",
            "Palestinian prisoners in Israeli detention are one of many flashpoints in the Middle East conflict . Prisoners have launched hunger strikes in the past in hopes of bringing attention to their cause and pushing Israel to ease conditions or allow some prisoners to leave .\n",
            "\n",
            "Israeli officials have said that prisoners include members of extremist groups who have `` blood on their hands . ''\n",
            "\n",
            "In October 2011 , Israel freed more than 1,000 Palestinian prisoners -- including hundreds serving life sentences for attacks on Israelis -- in exchange for one person : Israeli soldier Gilad Shalit , who had been held by Hamas for more than five years .\n",
            "\n",
            "`` The United Nations appeals for maximum restraint by all parties to prevent further violence . The United Nations will continue engaging with the parties on the ground with a view to finding a solution that addresses the plight of prisoners and preserves the calm , '' Monday 's U.N. statement said .\n",
            "\n",
            "CNN 's Kareem Khadder reported from Jerusalem ; Steve Almasy wrote the story in Atlanta .\n",
            "\n",
            "\n"
          ]
        }
      ]
    },
    {
      "cell_type": "code",
      "source": [
        "stories[:2]"
      ],
      "metadata": {
        "id": "wz2LsDhyEV8h",
        "colab": {
          "base_uri": "https://localhost:8080/"
        },
        "outputId": "8dad4647-956e-4496-a286-c6fe573a75d6"
      },
      "execution_count": 8,
      "outputs": [
        {
          "output_type": "execute_result",
          "data": {
            "text/plain": [
              "[{'story': \"BOSTON , Massachusetts -LRB- CNN -RRB- -- A huge mural greets visitors to the Reggie Lewis Track and Athletic Center in Boston . It 's a memorial to the building 's namesake , who died unexpectedly in 1993 .\\n\\nHundreds of tiles are used to create the `` magic '' mural at the Reggie Lewis Track and Athletic Center in Boston .\\n\\nA young Reggie Lewis , wearing his No. 35 Boston Celtics jersey , dominates the middle of the 11-foot-by-14-foot artwork . At the bottom left is a picture of him and his wife . To his right , the face of legendary Celtic Larry Bird .\\n\\nBut as young men in sweats and sneakers make their way into the gym , something strange happens . The mural comes alive . The photo of a beaming Lewis in formal attire transforms into Lewis the basketball player , streaking down the court .\\n\\nLarry Bird 's picture morphs into that of another famous player , Robert Parrish .\\n\\nWith each step , the mural transforms , representing the many scenes in one man 's life .\\n\\nArtist Rufus B. Seder calls these `` movies for a wall '' Lifetiles . The Massachusetts artist invented the Lifetiles medium and is the only artist in the world using it . He has more than 30 Lifetiles installations around the globe . Watch a magic mural in action ''\\n\\nAt the Taiwan Aquarium , dolphins swim on the wall alongside awestruck children . Bucking broncos line the halls of the the National Cowgirl Museum and Hall of Fame in Fort Worth , Texas . Dancers spin and twirl along with passengers on luxury cruise ships in the south of France . And Seder calls the the South San Francisco , California , BART station his `` own personal gallery , '' with more than 16 installations .\\n\\nLifetiles do n't use electricity , moving parts or tricky lighting -- just an elaborate and painstaking process done out of Seder 's Eye Think Inc. studio near Boston .\\n\\n`` What I 'm after is trying to create an experience which totally takes you by surprise , '' he said .\\n\\nScanimation on the shelf\\n\\nIf the technology you see in Lifetiles looks familiar , you might have caught something similar at a local bookstore . The popular children 's books `` Gallop ! '' and `` Swing ! '' were also written and illustrated by Seder . With a technique he calls scanimation , pictures in the books come alive as you flip the page .\\n\\nIt 's a kids ' favorite that quite a few parents enjoy , too , based on sales numbers . `` Swing ! '' and `` Gallop ! '' are currently on The New York Times bestseller list .\\n\\nSeder originally used scanimation in greeting cards he sold at trade shows around the country . Then Workman Publishing came calling , asking Seder to develop a book based on the eye-catching technique .\\n\\nThat 's when Seder caught lightning in a bottle . After several decades as a somewhat unknown artist , he found himself flying to China to teach the scanimation technique to book makers . Just a few years later , there are over 2 million copies of `` Gallop ! '' in print in more than 13 languages .\\n\\nStill awed by their popularity , Seder said , `` I would 've been satisfied if a limited edition sold well . It totally blew my mind what happened . ''\\n\\nAlthough his books ' success have gained Seder some newfound publicity , the Lifetiles are truly his life 's work .\\n\\nThe relatively unknown and seemingly modern form of art is n't new at all . Seder 's been working on Lifetiles for more than 20 years , inspired by toys from the 1850s called zoetropes and an active imagination as a youngster .\\n\\n`` I started making movies when I was 12 years old , '' he said , `` so I was always into motion pictures and especially into optical tricks and techniques that trick the eye . ''\\n\\nHow does it work ?\\n\\nAs a viewer , you do n't have to learn how to see a Lifetile . It 's intuitive , and one immediately understands the concept . As you walk past the mural , it begins to move along with you .\\n\\nBut the question that immediately comes to mind -- and the one Seder gets the most -- is , `` How does it work ? ''\\n\\n`` The short answer is , it 's magic , '' Seder said . `` The longer answer is , it 's like a flipbook . I 've taken all the pages from a flipbook and scrambled them all together , and I 've put them up on the wall and made them animate . ''\\n\\nThe lengthy process also requires attention to detail . Much like an animator , he creates a series of drawings on his computer . He then strips down each image into what becomes an indistinguishable picture made up of a series of vertical lines .\\n\\nThis squiggly-lined image becomes the equivalent of a photo negative . The negative gets sandblasted onto a hand-cast glass tile made in Seder 's studio . The heavy , 8-inch-square glass tiles get painted , scraped , fired in a kiln and finally added piece by piece to a Lifetiles mural . Hundreds of these tiles work in harmony to create a huge moving image when displayed on a wall .\\n\\nSeder patented the painstaking technique but thinks most other artists would n't have his patience , even if they had his know-how .\\n\\n`` It 's not that I 've been playing my cards close to my vest , '' he said . `` It 's just very difficult to do . ''\\n\\nA Lifetiles installation , from conception to completion , can take up to a year to complete . It 's a labor of love he shares with others who walk by his `` magic '' walls .\\n\\n`` I love to watch people react to the work . They do n't expect a wall to move , '' he said . `` They 'll be walking down the hallway in a museum and walking outdoors through a zoo ... and suddenly they realize , ` Those dolphins are starting to move next to me ! How is that possible ? ' ''\\n\\n\",\n",
              "  'highlights': ['Lifetiles are murals , created without electricity or moving parts , that appear to move',\n",
              "   'Rufus Seder is the inventor of Lifetiles and the only artist in the world using them',\n",
              "   'His eye-catching Lifetiles installations can take over a year to make',\n",
              "   'Seder also is the author of two bestselling books using similar technology']},\n",
              " {'story': \"-LRB- Rolling Stone -RRB- -- After back-to-back stomach clutching renditions of `` Not Gon ' Cry '' and `` I 'm Going Down '' at the Essence Music Festival in New Orleans Sunday night , Mary J. Blige pulled off an Oprah-worthy seminar on affirmation with `` Just Fine '' to close out the three-day fest , which celebrates black music and African-American culture .\\n\\nThe synth-heavy number pierced to the core of the capacity Louisiana Superdome crowd . As Blige danced around in a shimmering black mini-dress , the audience took over the number and launched into a sing-along that reached up to the fifth level of the arena .\\n\\nEarlier , Blige told Rolling Stone , `` I do n't think fans come here to hear you talk about your new album . They come to hold their stomachs when you sing that song that you love so much . That 's what -LSB- the festival -RSB- is about . To get that nostalgia . You got ta give the people what they want . '' She certainly obliged .\\n\\nPhotos : 2011 Essence Music Festival : Kanye West , Usher , Mary J. Blige , George Clinton and More\\n\\nIf Blige 's set was packaged as faith and forgiveness , then Saturday night 's headliner , Kanye West , was essentially id decked out in a sporty white blazer . The Chicago MC arrived through the air via a cable-enabled lift before he got off and had a Rudyard Kipling-inspired moment and walked through the crowd to reach the stage for `` Power . ''\\n\\nRiffing off recent performances , West 's show was a mix of his Coachella set -LRB- in three acts -RRB- and his VMA performance -LRB- red suit -RRB- but with a nod to the Essence crowd , as he finished with a stirring musical testimony to his mother , `` Hey Mama . ''\\n\\nPhotos : The Hottest Live Performances from Coachella 2011\\n\\n`` It feels so good to be back home , '' ` Ye told the audience -- not unlike Blige , preaching the power of healing . `` When I say home , I mean my people . I travel the world . I been around the world . I got into a little trouble . A little controversy here and there . But before I go any further in the show , I wan na thank you for coming out and still supporting me . ''\\n\\nFriday night headliner Usher and Charlie Wilson -LRB- Friday 's penultimate performer -RRB- had an unofficial generational game of one-upmanship . Wilson commandeered the stage for what felt like an eternity , though in actuality it was much closer to two hours , still , surely more than his allotment . The former Gap Band singer ran through a series of his old cohort 's hits , from `` Outstanding '' to `` You Dropped a Bomb on Me . ''\\n\\nUncle Charlie , as he 's been dubbed by Snoop Dogg , cut into Usher 's constituency when he launched into `` There Goes My Baby . '' The song not only shares the title with one of Usher 's tracks , but the swooping song is best known -LRB- at least to the younger set -RRB- as Wilson 's dedication to Snoop and his wife when the couple renewed their vows . Wilson smiled , preened and pranced as the audience swayed from side to side .\\n\\nA rejuvenated Usher , however , proved it 's still a younger man 's game . He also arrived from the sky like West , but once he landed -LRB- equipped with a helmet -RRB- , the pre-July 4th fireworks started . `` U Do n't Have to Call '' and `` You Make Me Wan na '' thundered throughout the dome . Shrieks echoed as leather-clad Ush slithered between dancers during `` Lil Freak '' and `` Trading Places . ''\\n\\nBut , much like Blige noted , the crowd wanted nostalgia and Usher offered it in heaps with a three-song Michael Jackson medley . It was a true `` OMG '' moment .\\n\\nCopyright © 2011 Rolling Stone .\\n\\n\",\n",
              "  'highlights': ['The three-day festival celebrates black music and African-American culture',\n",
              "   'Kanye West , decked out in a sporty white blazer , arrived via a cable-enabled lift',\n",
              "   'Usher offered nostalgia with a three-song Michael Jackson medley']}]"
            ]
          },
          "metadata": {},
          "execution_count": 8
        }
      ]
    },
    {
      "cell_type": "markdown",
      "source": [
        "### **Data Cleaning**"
      ],
      "metadata": {
        "id": "zsdElC3zEYkW"
      }
    },
    {
      "cell_type": "code",
      "source": [
        "class Clean_data:\n",
        "    def __init__(self):\n",
        "        pass\n",
        "\n",
        "    def clean_lines(self, lines):\n",
        "        cleaned = list()\n",
        "        table = str.maketrans('', '', string.punctuation)\n",
        "\n",
        "        for line in lines:\n",
        "            index = line.find('(CNN)')\n",
        "            if index >= 0:\n",
        "                line = line[index + len('(CNN)'):]\n",
        "\n",
        "            split_line = line.split()\n",
        "\n",
        "            split_line = [word.lower() for word in split_line]\n",
        "            split_line = [w.translate(table) for w in split_line]\n",
        "\n",
        "            split_line = [word for word in split_line if word.isalpha()]\n",
        "            cleaned.append(' '.join(split_line))\n",
        "        cleaned = [c for c in cleaned if len(c) > 0]\n",
        "        return cleaned"
      ],
      "metadata": {
        "id": "VWpf4WduEc6j"
      },
      "execution_count": 9,
      "outputs": []
    },
    {
      "cell_type": "code",
      "source": [
        "obj1 = Clean_data()\n",
        "cleaned_stories = list()\n",
        "for example in stories[:100]:\n",
        "    cleaned_stories.append({'story': obj1.clean_lines(example['story'].split('\\n')), 'highlights': obj1.clean_lines(example['highlights'])})"
      ],
      "metadata": {
        "id": "U8idAEx3Ehyb"
      },
      "execution_count": 10,
      "outputs": []
    },
    {
      "cell_type": "code",
      "source": [
        "cleaned_stories[7] # 60"
      ],
      "metadata": {
        "id": "H2Kt9uTBEj4d",
        "colab": {
          "base_uri": "https://localhost:8080/"
        },
        "outputId": "6adbaff2-f84d-4538-8f38-0f89946bcd44"
      },
      "execution_count": 11,
      "outputs": [
        {
          "output_type": "execute_result",
          "data": {
            "text/plain": [
              "{'story': ['jerusalem lrb cnn rrb tensions in the west bank are heightened after the recent death in an israeli prison of a palestinian arrested last week',\n",
              "  'arafat jaradat died saturday inciting palestinian officials to once again decry conditions in israeli prisons',\n",
              "  'the prisoner martyr jaradat went to prison to come back a corpse but we are determined to find out how it was done and who did it palestinian authority president mahmoud abbas said monday according to the state news agency wafa we know how we will act and we will not let them lrb israelis rrb drag us to their square and they should bear the responsibility',\n",
              "  'the united nations weighed in monday calling for a thorough probe into jaradat s death',\n",
              "  'the united nations expects the autopsy to be followed by an independent and transparent investigation into the circumstances of mr jaradat s death the results of which should be made public as soon as possible robert serry the un special coordinator for the middle east peace process said in a written statement',\n",
              "  'israel said doctors had worked to save the inmate who was suffering from previous injuries palestinian officials said jaradat was tortured',\n",
              "  'palestinians in israeli prisons about people took part in a hunger strike sunday and crowds protested in the streets of the west bank as palestinian officials called for an international investigation into an inmate s death',\n",
              "  'palestinian officials told cnn that jaradat is the palestinian to die in israeli prisons since',\n",
              "  'he was buried monday near his home in the west bank as dozens of masked members of alaqsa martyr s brigade the armed wing of fatah fired rifles in the air in protest',\n",
              "  'they killed him only in five days his sister told palestinian tv they kidnapped him from life oh my dear little brother oh my love',\n",
              "  'a palestinian official sent a warning sunday to us president barack obama who plans to make his first trip to israel as president next month',\n",
              "  'if president obama wants to visit the region peacefully he should exert pressure on israel to release the prisoners especially the ones who are on hunger strike or else he will visit while palestine is on fire minister of prisoner affairs issa qaraqe said',\n",
              "  'israeli officials sunday called on the palestinian authority to calm the territories where there have been large protests in recent days over the conditions of palestinian prisoners',\n",
              "  'israeli prime minister benjamin netanyahu s liaison with palestinians yitzhak molco passed on the demand for calm to the palestinian authority israeli government officials said',\n",
              "  'jaradat s death came amid a fury and a series of questions surrounding the death of a prisoner in referred to as prisoner x details came to light in recent days after a court document was released',\n",
              "  'jaradat had been held for interrogation since monday for a incident in which an israeli citizen was injured by rockthrowing palestinian protestors',\n",
              "  'jaradat confessed israeli security sources said',\n",
              "  'human rights watch called on israel on saturday to immediately charge or release palestinians detained without charge or trial for prolonged periods',\n",
              "  'palestinian prisoners in israeli detention are one of many flashpoints in the middle east conflict prisoners have launched hunger strikes in the past in hopes of bringing attention to their cause and pushing israel to ease conditions or allow some prisoners to leave',\n",
              "  'israeli officials have said that prisoners include members of extremist groups who have blood on their hands',\n",
              "  'in october israel freed more than palestinian prisoners including hundreds serving life sentences for attacks on israelis in exchange for one person israeli soldier gilad shalit who had been held by hamas for more than five years',\n",
              "  'the united nations appeals for maximum restraint by all parties to prevent further violence the united nations will continue engaging with the parties on the ground with a view to finding a solution that addresses the plight of prisoners and preserves the calm monday s un statement said',\n",
              "  'cnn s kareem khadder reported from jerusalem steve almasy wrote the story in atlanta'],\n",
              " 'highlights': ['arafat jaradat had been detained for five days when he died',\n",
              "  'palestinian president says israelis killed him',\n",
              "  'israeli officials say he had previous injuries call for calm',\n",
              "  'un calls for transparent investigation into death']}"
            ]
          },
          "metadata": {},
          "execution_count": 11
        }
      ]
    },
    {
      "cell_type": "code",
      "source": [
        "# dump(cleaned_stories, open('/home/nikhil/Downloads/cnn/processed_sample_data/cnn_dataset.pkl', 'wb'))\n",
        "dump(cleaned_stories, open('/content/drive/MyDrive/folders/cnn_stories_tokenized/cnn_dataset.pkl', 'wb'))\n",
        "# '/content/drive/MyDrive/folders/cnn_stories_tokenized'"
      ],
      "metadata": {
        "id": "55LTvw7FEoA6"
      },
      "execution_count": 12,
      "outputs": []
    },
    {
      "cell_type": "code",
      "source": [
        "#cleaned_stories = load(open('/home/nikhil/Downloads/cnn/processed_sample_data/cnn_dataset.pkl', 'rb'))\n",
        "cleaned_stories = load(open('/content/drive/MyDrive/folders/cnn_stories_tokenized/cnn_dataset.pkl', 'rb'))\n",
        "print('Loaded Stories %d' % len(cleaned_stories))"
      ],
      "metadata": {
        "id": "6d5J2xxKEo1x",
        "colab": {
          "base_uri": "https://localhost:8080/"
        },
        "outputId": "298631fc-6b3c-4bda-945c-71e409217bf9"
      },
      "execution_count": 13,
      "outputs": [
        {
          "output_type": "stream",
          "name": "stdout",
          "text": [
            "Loaded Stories 8\n"
          ]
        }
      ]
    },
    {
      "cell_type": "markdown",
      "source": [
        "### **Amazon Food reviews Dataset**"
      ],
      "metadata": {
        "id": "aJjcZl_lEsMS"
      }
    },
    {
      "cell_type": "code",
      "source": [
        "# AMAZON_DATA_PATH = '/home/nikhil/Downloads/amazon-fine-food-reviews/Reviews.csv'\n",
        "AMAZON_DATA_PATH = '/content/drive/MyDrive/folders/Reviews.csv' #cnn_stories_tokenized/amazon-fine-food-reviews"
      ],
      "metadata": {
        "id": "rpxczfc7E1px"
      },
      "execution_count": 14,
      "outputs": []
    },
    {
      "cell_type": "code",
      "source": [
        "class Load_amazon_data:\n",
        "    def __init__(self, dir_path, seed = 0):\n",
        "        self.dir_path = dir_path\n",
        "        np.random.seed(seed)\n",
        "\n",
        "    def load(self):\n",
        "        \"\"\"\n",
        "        Reads data from the given directory path\n",
        "        \"\"\"\n",
        "        return pd.read_csv(self.dir_path)\n",
        "\n",
        "    def drop(self):\n",
        "        \"\"\"\n",
        "        Drops unnecessary columns\n",
        "        \"\"\"\n",
        "\n",
        "        data= self.load()\n",
        "\n",
        "        data = data.dropna()\n",
        "        data= data.iloc[:, -2:]\n",
        "        data = data.reset_index(drop= True)\n",
        "\n",
        "        return data\n",
        "\n",
        "    def analyze_data(self):\n",
        "        \"\"\"\n",
        "        Prints some sample data points from the cleaned data\n",
        "        \"\"\"\n",
        "        data= self.drop()\n",
        "\n",
        "        for sr_no, i in enumerate(np.random.randint(10, 100, size= 5)):\n",
        "            print(\"_________________________\")\n",
        "            print(\"Data Point {0}\".format(sr_no + 1))\n",
        "            print(\"Summary:\")\n",
        "            print(data['Summary'].iloc[i])\n",
        "            print(\"Full Text:\")\n",
        "            print(data['Text'].iloc[i])"
      ],
      "metadata": {
        "id": "3OgrtKUUE2Rg"
      },
      "execution_count": 15,
      "outputs": []
    },
    {
      "cell_type": "code",
      "source": [
        "obj = Load_amazon_data(AMAZON_DATA_PATH, seed = 1)"
      ],
      "metadata": {
        "id": "hR522SOOE75U"
      },
      "execution_count": 16,
      "outputs": []
    },
    {
      "cell_type": "markdown",
      "source": [
        "### **Load the Data**"
      ],
      "metadata": {
        "id": "VPCmuQO6E_AZ"
      }
    },
    {
      "cell_type": "code",
      "source": [
        "data = obj.load()\n",
        "data.head()"
      ],
      "metadata": {
        "id": "f2_FnH-5FD-k",
        "colab": {
          "base_uri": "https://localhost:8080/",
          "height": 293
        },
        "outputId": "458e6b3d-8492-4181-cfbf-7307e54864b5"
      },
      "execution_count": 17,
      "outputs": [
        {
          "output_type": "execute_result",
          "data": {
            "text/plain": [
              "   Id   ProductId          UserId                      ProfileName  \\\n",
              "0   1  B001E4KFG0  A3SGXH7AUHU8GW                       delmartian   \n",
              "1   2  B00813GRG4  A1D87F6ZCVE5NK                           dll pa   \n",
              "2   3  B000LQOCH0   ABXLMWJIXXAIN  Natalia Corres \"Natalia Corres\"   \n",
              "3   4  B000UA0QIQ  A395BORC6FGVXV                             Karl   \n",
              "4   5  B006K2ZZ7K  A1UQRSCLF8GW1T    Michael D. Bigham \"M. Wassir\"   \n",
              "\n",
              "   HelpfulnessNumerator  HelpfulnessDenominator  Score        Time  \\\n",
              "0                     1                       1      5  1303862400   \n",
              "1                     0                       0      1  1346976000   \n",
              "2                     1                       1      4  1219017600   \n",
              "3                     3                       3      2  1307923200   \n",
              "4                     0                       0      5  1350777600   \n",
              "\n",
              "                 Summary                                               Text  \n",
              "0  Good Quality Dog Food  I have bought several of the Vitality canned d...  \n",
              "1      Not as Advertised  Product arrived labeled as Jumbo Salted Peanut...  \n",
              "2  \"Delight\" says it all  This is a confection that has been around a fe...  \n",
              "3         Cough Medicine  If you are looking for the secret ingredient i...  \n",
              "4            Great taffy  Great taffy at a great price.  There was a wid...  "
            ],
            "text/html": [
              "\n",
              "  <div id=\"df-5b82f367-48ff-4ec1-9eb8-7a3287dd7204\" class=\"colab-df-container\">\n",
              "    <div>\n",
              "<style scoped>\n",
              "    .dataframe tbody tr th:only-of-type {\n",
              "        vertical-align: middle;\n",
              "    }\n",
              "\n",
              "    .dataframe tbody tr th {\n",
              "        vertical-align: top;\n",
              "    }\n",
              "\n",
              "    .dataframe thead th {\n",
              "        text-align: right;\n",
              "    }\n",
              "</style>\n",
              "<table border=\"1\" class=\"dataframe\">\n",
              "  <thead>\n",
              "    <tr style=\"text-align: right;\">\n",
              "      <th></th>\n",
              "      <th>Id</th>\n",
              "      <th>ProductId</th>\n",
              "      <th>UserId</th>\n",
              "      <th>ProfileName</th>\n",
              "      <th>HelpfulnessNumerator</th>\n",
              "      <th>HelpfulnessDenominator</th>\n",
              "      <th>Score</th>\n",
              "      <th>Time</th>\n",
              "      <th>Summary</th>\n",
              "      <th>Text</th>\n",
              "    </tr>\n",
              "  </thead>\n",
              "  <tbody>\n",
              "    <tr>\n",
              "      <th>0</th>\n",
              "      <td>1</td>\n",
              "      <td>B001E4KFG0</td>\n",
              "      <td>A3SGXH7AUHU8GW</td>\n",
              "      <td>delmartian</td>\n",
              "      <td>1</td>\n",
              "      <td>1</td>\n",
              "      <td>5</td>\n",
              "      <td>1303862400</td>\n",
              "      <td>Good Quality Dog Food</td>\n",
              "      <td>I have bought several of the Vitality canned d...</td>\n",
              "    </tr>\n",
              "    <tr>\n",
              "      <th>1</th>\n",
              "      <td>2</td>\n",
              "      <td>B00813GRG4</td>\n",
              "      <td>A1D87F6ZCVE5NK</td>\n",
              "      <td>dll pa</td>\n",
              "      <td>0</td>\n",
              "      <td>0</td>\n",
              "      <td>1</td>\n",
              "      <td>1346976000</td>\n",
              "      <td>Not as Advertised</td>\n",
              "      <td>Product arrived labeled as Jumbo Salted Peanut...</td>\n",
              "    </tr>\n",
              "    <tr>\n",
              "      <th>2</th>\n",
              "      <td>3</td>\n",
              "      <td>B000LQOCH0</td>\n",
              "      <td>ABXLMWJIXXAIN</td>\n",
              "      <td>Natalia Corres \"Natalia Corres\"</td>\n",
              "      <td>1</td>\n",
              "      <td>1</td>\n",
              "      <td>4</td>\n",
              "      <td>1219017600</td>\n",
              "      <td>\"Delight\" says it all</td>\n",
              "      <td>This is a confection that has been around a fe...</td>\n",
              "    </tr>\n",
              "    <tr>\n",
              "      <th>3</th>\n",
              "      <td>4</td>\n",
              "      <td>B000UA0QIQ</td>\n",
              "      <td>A395BORC6FGVXV</td>\n",
              "      <td>Karl</td>\n",
              "      <td>3</td>\n",
              "      <td>3</td>\n",
              "      <td>2</td>\n",
              "      <td>1307923200</td>\n",
              "      <td>Cough Medicine</td>\n",
              "      <td>If you are looking for the secret ingredient i...</td>\n",
              "    </tr>\n",
              "    <tr>\n",
              "      <th>4</th>\n",
              "      <td>5</td>\n",
              "      <td>B006K2ZZ7K</td>\n",
              "      <td>A1UQRSCLF8GW1T</td>\n",
              "      <td>Michael D. Bigham \"M. Wassir\"</td>\n",
              "      <td>0</td>\n",
              "      <td>0</td>\n",
              "      <td>5</td>\n",
              "      <td>1350777600</td>\n",
              "      <td>Great taffy</td>\n",
              "      <td>Great taffy at a great price.  There was a wid...</td>\n",
              "    </tr>\n",
              "  </tbody>\n",
              "</table>\n",
              "</div>\n",
              "    <div class=\"colab-df-buttons\">\n",
              "\n",
              "  <div class=\"colab-df-container\">\n",
              "    <button class=\"colab-df-convert\" onclick=\"convertToInteractive('df-5b82f367-48ff-4ec1-9eb8-7a3287dd7204')\"\n",
              "            title=\"Convert this dataframe to an interactive table.\"\n",
              "            style=\"display:none;\">\n",
              "\n",
              "  <svg xmlns=\"http://www.w3.org/2000/svg\" height=\"24px\" viewBox=\"0 -960 960 960\">\n",
              "    <path d=\"M120-120v-720h720v720H120Zm60-500h600v-160H180v160Zm220 220h160v-160H400v160Zm0 220h160v-160H400v160ZM180-400h160v-160H180v160Zm440 0h160v-160H620v160ZM180-180h160v-160H180v160Zm440 0h160v-160H620v160Z\"/>\n",
              "  </svg>\n",
              "    </button>\n",
              "\n",
              "  <style>\n",
              "    .colab-df-container {\n",
              "      display:flex;\n",
              "      gap: 12px;\n",
              "    }\n",
              "\n",
              "    .colab-df-convert {\n",
              "      background-color: #E8F0FE;\n",
              "      border: none;\n",
              "      border-radius: 50%;\n",
              "      cursor: pointer;\n",
              "      display: none;\n",
              "      fill: #1967D2;\n",
              "      height: 32px;\n",
              "      padding: 0 0 0 0;\n",
              "      width: 32px;\n",
              "    }\n",
              "\n",
              "    .colab-df-convert:hover {\n",
              "      background-color: #E2EBFA;\n",
              "      box-shadow: 0px 1px 2px rgba(60, 64, 67, 0.3), 0px 1px 3px 1px rgba(60, 64, 67, 0.15);\n",
              "      fill: #174EA6;\n",
              "    }\n",
              "\n",
              "    .colab-df-buttons div {\n",
              "      margin-bottom: 4px;\n",
              "    }\n",
              "\n",
              "    [theme=dark] .colab-df-convert {\n",
              "      background-color: #3B4455;\n",
              "      fill: #D2E3FC;\n",
              "    }\n",
              "\n",
              "    [theme=dark] .colab-df-convert:hover {\n",
              "      background-color: #434B5C;\n",
              "      box-shadow: 0px 1px 3px 1px rgba(0, 0, 0, 0.15);\n",
              "      filter: drop-shadow(0px 1px 2px rgba(0, 0, 0, 0.3));\n",
              "      fill: #FFFFFF;\n",
              "    }\n",
              "  </style>\n",
              "\n",
              "    <script>\n",
              "      const buttonEl =\n",
              "        document.querySelector('#df-5b82f367-48ff-4ec1-9eb8-7a3287dd7204 button.colab-df-convert');\n",
              "      buttonEl.style.display =\n",
              "        google.colab.kernel.accessAllowed ? 'block' : 'none';\n",
              "\n",
              "      async function convertToInteractive(key) {\n",
              "        const element = document.querySelector('#df-5b82f367-48ff-4ec1-9eb8-7a3287dd7204');\n",
              "        const dataTable =\n",
              "          await google.colab.kernel.invokeFunction('convertToInteractive',\n",
              "                                                    [key], {});\n",
              "        if (!dataTable) return;\n",
              "\n",
              "        const docLinkHtml = 'Like what you see? Visit the ' +\n",
              "          '<a target=\"_blank\" href=https://colab.research.google.com/notebooks/data_table.ipynb>data table notebook</a>'\n",
              "          + ' to learn more about interactive tables.';\n",
              "        element.innerHTML = '';\n",
              "        dataTable['output_type'] = 'display_data';\n",
              "        await google.colab.output.renderOutput(dataTable, element);\n",
              "        const docLink = document.createElement('div');\n",
              "        docLink.innerHTML = docLinkHtml;\n",
              "        element.appendChild(docLink);\n",
              "      }\n",
              "    </script>\n",
              "  </div>\n",
              "\n",
              "\n",
              "<div id=\"df-dc8427db-3121-4e28-ba06-ea82cdc13b16\">\n",
              "  <button class=\"colab-df-quickchart\" onclick=\"quickchart('df-dc8427db-3121-4e28-ba06-ea82cdc13b16')\"\n",
              "            title=\"Suggest charts.\"\n",
              "            style=\"display:none;\">\n",
              "\n",
              "<svg xmlns=\"http://www.w3.org/2000/svg\" height=\"24px\"viewBox=\"0 0 24 24\"\n",
              "     width=\"24px\">\n",
              "    <g>\n",
              "        <path d=\"M19 3H5c-1.1 0-2 .9-2 2v14c0 1.1.9 2 2 2h14c1.1 0 2-.9 2-2V5c0-1.1-.9-2-2-2zM9 17H7v-7h2v7zm4 0h-2V7h2v10zm4 0h-2v-4h2v4z\"/>\n",
              "    </g>\n",
              "</svg>\n",
              "  </button>\n",
              "\n",
              "<style>\n",
              "  .colab-df-quickchart {\n",
              "      --bg-color: #E8F0FE;\n",
              "      --fill-color: #1967D2;\n",
              "      --hover-bg-color: #E2EBFA;\n",
              "      --hover-fill-color: #174EA6;\n",
              "      --disabled-fill-color: #AAA;\n",
              "      --disabled-bg-color: #DDD;\n",
              "  }\n",
              "\n",
              "  [theme=dark] .colab-df-quickchart {\n",
              "      --bg-color: #3B4455;\n",
              "      --fill-color: #D2E3FC;\n",
              "      --hover-bg-color: #434B5C;\n",
              "      --hover-fill-color: #FFFFFF;\n",
              "      --disabled-bg-color: #3B4455;\n",
              "      --disabled-fill-color: #666;\n",
              "  }\n",
              "\n",
              "  .colab-df-quickchart {\n",
              "    background-color: var(--bg-color);\n",
              "    border: none;\n",
              "    border-radius: 50%;\n",
              "    cursor: pointer;\n",
              "    display: none;\n",
              "    fill: var(--fill-color);\n",
              "    height: 32px;\n",
              "    padding: 0;\n",
              "    width: 32px;\n",
              "  }\n",
              "\n",
              "  .colab-df-quickchart:hover {\n",
              "    background-color: var(--hover-bg-color);\n",
              "    box-shadow: 0 1px 2px rgba(60, 64, 67, 0.3), 0 1px 3px 1px rgba(60, 64, 67, 0.15);\n",
              "    fill: var(--button-hover-fill-color);\n",
              "  }\n",
              "\n",
              "  .colab-df-quickchart-complete:disabled,\n",
              "  .colab-df-quickchart-complete:disabled:hover {\n",
              "    background-color: var(--disabled-bg-color);\n",
              "    fill: var(--disabled-fill-color);\n",
              "    box-shadow: none;\n",
              "  }\n",
              "\n",
              "  .colab-df-spinner {\n",
              "    border: 2px solid var(--fill-color);\n",
              "    border-color: transparent;\n",
              "    border-bottom-color: var(--fill-color);\n",
              "    animation:\n",
              "      spin 1s steps(1) infinite;\n",
              "  }\n",
              "\n",
              "  @keyframes spin {\n",
              "    0% {\n",
              "      border-color: transparent;\n",
              "      border-bottom-color: var(--fill-color);\n",
              "      border-left-color: var(--fill-color);\n",
              "    }\n",
              "    20% {\n",
              "      border-color: transparent;\n",
              "      border-left-color: var(--fill-color);\n",
              "      border-top-color: var(--fill-color);\n",
              "    }\n",
              "    30% {\n",
              "      border-color: transparent;\n",
              "      border-left-color: var(--fill-color);\n",
              "      border-top-color: var(--fill-color);\n",
              "      border-right-color: var(--fill-color);\n",
              "    }\n",
              "    40% {\n",
              "      border-color: transparent;\n",
              "      border-right-color: var(--fill-color);\n",
              "      border-top-color: var(--fill-color);\n",
              "    }\n",
              "    60% {\n",
              "      border-color: transparent;\n",
              "      border-right-color: var(--fill-color);\n",
              "    }\n",
              "    80% {\n",
              "      border-color: transparent;\n",
              "      border-right-color: var(--fill-color);\n",
              "      border-bottom-color: var(--fill-color);\n",
              "    }\n",
              "    90% {\n",
              "      border-color: transparent;\n",
              "      border-bottom-color: var(--fill-color);\n",
              "    }\n",
              "  }\n",
              "</style>\n",
              "\n",
              "  <script>\n",
              "    async function quickchart(key) {\n",
              "      const quickchartButtonEl =\n",
              "        document.querySelector('#' + key + ' button');\n",
              "      quickchartButtonEl.disabled = true;  // To prevent multiple clicks.\n",
              "      quickchartButtonEl.classList.add('colab-df-spinner');\n",
              "      try {\n",
              "        const charts = await google.colab.kernel.invokeFunction(\n",
              "            'suggestCharts', [key], {});\n",
              "      } catch (error) {\n",
              "        console.error('Error during call to suggestCharts:', error);\n",
              "      }\n",
              "      quickchartButtonEl.classList.remove('colab-df-spinner');\n",
              "      quickchartButtonEl.classList.add('colab-df-quickchart-complete');\n",
              "    }\n",
              "    (() => {\n",
              "      let quickchartButtonEl =\n",
              "        document.querySelector('#df-dc8427db-3121-4e28-ba06-ea82cdc13b16 button');\n",
              "      quickchartButtonEl.style.display =\n",
              "        google.colab.kernel.accessAllowed ? 'block' : 'none';\n",
              "    })();\n",
              "  </script>\n",
              "</div>\n",
              "    </div>\n",
              "  </div>\n"
            ]
          },
          "metadata": {},
          "execution_count": 17
        }
      ]
    },
    {
      "cell_type": "markdown",
      "source": [
        "### **Dropping Unnecessary columns**"
      ],
      "metadata": {
        "id": "46LVwm9GNU0i"
      }
    },
    {
      "cell_type": "code",
      "source": [
        "data = obj.drop()\n",
        "data.head()"
      ],
      "metadata": {
        "id": "WsXrp41pNZc5",
        "colab": {
          "base_uri": "https://localhost:8080/",
          "height": 206
        },
        "outputId": "ddbbc833-d1e3-464f-9737-2d2a2b8be4ee"
      },
      "execution_count": 18,
      "outputs": [
        {
          "output_type": "execute_result",
          "data": {
            "text/plain": [
              "                 Summary                                               Text\n",
              "0  Good Quality Dog Food  I have bought several of the Vitality canned d...\n",
              "1      Not as Advertised  Product arrived labeled as Jumbo Salted Peanut...\n",
              "2  \"Delight\" says it all  This is a confection that has been around a fe...\n",
              "3         Cough Medicine  If you are looking for the secret ingredient i...\n",
              "4            Great taffy  Great taffy at a great price.  There was a wid..."
            ],
            "text/html": [
              "\n",
              "  <div id=\"df-4e74677e-52f9-492f-8ca6-f4071ce64273\" class=\"colab-df-container\">\n",
              "    <div>\n",
              "<style scoped>\n",
              "    .dataframe tbody tr th:only-of-type {\n",
              "        vertical-align: middle;\n",
              "    }\n",
              "\n",
              "    .dataframe tbody tr th {\n",
              "        vertical-align: top;\n",
              "    }\n",
              "\n",
              "    .dataframe thead th {\n",
              "        text-align: right;\n",
              "    }\n",
              "</style>\n",
              "<table border=\"1\" class=\"dataframe\">\n",
              "  <thead>\n",
              "    <tr style=\"text-align: right;\">\n",
              "      <th></th>\n",
              "      <th>Summary</th>\n",
              "      <th>Text</th>\n",
              "    </tr>\n",
              "  </thead>\n",
              "  <tbody>\n",
              "    <tr>\n",
              "      <th>0</th>\n",
              "      <td>Good Quality Dog Food</td>\n",
              "      <td>I have bought several of the Vitality canned d...</td>\n",
              "    </tr>\n",
              "    <tr>\n",
              "      <th>1</th>\n",
              "      <td>Not as Advertised</td>\n",
              "      <td>Product arrived labeled as Jumbo Salted Peanut...</td>\n",
              "    </tr>\n",
              "    <tr>\n",
              "      <th>2</th>\n",
              "      <td>\"Delight\" says it all</td>\n",
              "      <td>This is a confection that has been around a fe...</td>\n",
              "    </tr>\n",
              "    <tr>\n",
              "      <th>3</th>\n",
              "      <td>Cough Medicine</td>\n",
              "      <td>If you are looking for the secret ingredient i...</td>\n",
              "    </tr>\n",
              "    <tr>\n",
              "      <th>4</th>\n",
              "      <td>Great taffy</td>\n",
              "      <td>Great taffy at a great price.  There was a wid...</td>\n",
              "    </tr>\n",
              "  </tbody>\n",
              "</table>\n",
              "</div>\n",
              "    <div class=\"colab-df-buttons\">\n",
              "\n",
              "  <div class=\"colab-df-container\">\n",
              "    <button class=\"colab-df-convert\" onclick=\"convertToInteractive('df-4e74677e-52f9-492f-8ca6-f4071ce64273')\"\n",
              "            title=\"Convert this dataframe to an interactive table.\"\n",
              "            style=\"display:none;\">\n",
              "\n",
              "  <svg xmlns=\"http://www.w3.org/2000/svg\" height=\"24px\" viewBox=\"0 -960 960 960\">\n",
              "    <path d=\"M120-120v-720h720v720H120Zm60-500h600v-160H180v160Zm220 220h160v-160H400v160Zm0 220h160v-160H400v160ZM180-400h160v-160H180v160Zm440 0h160v-160H620v160ZM180-180h160v-160H180v160Zm440 0h160v-160H620v160Z\"/>\n",
              "  </svg>\n",
              "    </button>\n",
              "\n",
              "  <style>\n",
              "    .colab-df-container {\n",
              "      display:flex;\n",
              "      gap: 12px;\n",
              "    }\n",
              "\n",
              "    .colab-df-convert {\n",
              "      background-color: #E8F0FE;\n",
              "      border: none;\n",
              "      border-radius: 50%;\n",
              "      cursor: pointer;\n",
              "      display: none;\n",
              "      fill: #1967D2;\n",
              "      height: 32px;\n",
              "      padding: 0 0 0 0;\n",
              "      width: 32px;\n",
              "    }\n",
              "\n",
              "    .colab-df-convert:hover {\n",
              "      background-color: #E2EBFA;\n",
              "      box-shadow: 0px 1px 2px rgba(60, 64, 67, 0.3), 0px 1px 3px 1px rgba(60, 64, 67, 0.15);\n",
              "      fill: #174EA6;\n",
              "    }\n",
              "\n",
              "    .colab-df-buttons div {\n",
              "      margin-bottom: 4px;\n",
              "    }\n",
              "\n",
              "    [theme=dark] .colab-df-convert {\n",
              "      background-color: #3B4455;\n",
              "      fill: #D2E3FC;\n",
              "    }\n",
              "\n",
              "    [theme=dark] .colab-df-convert:hover {\n",
              "      background-color: #434B5C;\n",
              "      box-shadow: 0px 1px 3px 1px rgba(0, 0, 0, 0.15);\n",
              "      filter: drop-shadow(0px 1px 2px rgba(0, 0, 0, 0.3));\n",
              "      fill: #FFFFFF;\n",
              "    }\n",
              "  </style>\n",
              "\n",
              "    <script>\n",
              "      const buttonEl =\n",
              "        document.querySelector('#df-4e74677e-52f9-492f-8ca6-f4071ce64273 button.colab-df-convert');\n",
              "      buttonEl.style.display =\n",
              "        google.colab.kernel.accessAllowed ? 'block' : 'none';\n",
              "\n",
              "      async function convertToInteractive(key) {\n",
              "        const element = document.querySelector('#df-4e74677e-52f9-492f-8ca6-f4071ce64273');\n",
              "        const dataTable =\n",
              "          await google.colab.kernel.invokeFunction('convertToInteractive',\n",
              "                                                    [key], {});\n",
              "        if (!dataTable) return;\n",
              "\n",
              "        const docLinkHtml = 'Like what you see? Visit the ' +\n",
              "          '<a target=\"_blank\" href=https://colab.research.google.com/notebooks/data_table.ipynb>data table notebook</a>'\n",
              "          + ' to learn more about interactive tables.';\n",
              "        element.innerHTML = '';\n",
              "        dataTable['output_type'] = 'display_data';\n",
              "        await google.colab.output.renderOutput(dataTable, element);\n",
              "        const docLink = document.createElement('div');\n",
              "        docLink.innerHTML = docLinkHtml;\n",
              "        element.appendChild(docLink);\n",
              "      }\n",
              "    </script>\n",
              "  </div>\n",
              "\n",
              "\n",
              "<div id=\"df-cdb3ac2b-2de7-4c06-9961-8231e7f9f4c2\">\n",
              "  <button class=\"colab-df-quickchart\" onclick=\"quickchart('df-cdb3ac2b-2de7-4c06-9961-8231e7f9f4c2')\"\n",
              "            title=\"Suggest charts.\"\n",
              "            style=\"display:none;\">\n",
              "\n",
              "<svg xmlns=\"http://www.w3.org/2000/svg\" height=\"24px\"viewBox=\"0 0 24 24\"\n",
              "     width=\"24px\">\n",
              "    <g>\n",
              "        <path d=\"M19 3H5c-1.1 0-2 .9-2 2v14c0 1.1.9 2 2 2h14c1.1 0 2-.9 2-2V5c0-1.1-.9-2-2-2zM9 17H7v-7h2v7zm4 0h-2V7h2v10zm4 0h-2v-4h2v4z\"/>\n",
              "    </g>\n",
              "</svg>\n",
              "  </button>\n",
              "\n",
              "<style>\n",
              "  .colab-df-quickchart {\n",
              "      --bg-color: #E8F0FE;\n",
              "      --fill-color: #1967D2;\n",
              "      --hover-bg-color: #E2EBFA;\n",
              "      --hover-fill-color: #174EA6;\n",
              "      --disabled-fill-color: #AAA;\n",
              "      --disabled-bg-color: #DDD;\n",
              "  }\n",
              "\n",
              "  [theme=dark] .colab-df-quickchart {\n",
              "      --bg-color: #3B4455;\n",
              "      --fill-color: #D2E3FC;\n",
              "      --hover-bg-color: #434B5C;\n",
              "      --hover-fill-color: #FFFFFF;\n",
              "      --disabled-bg-color: #3B4455;\n",
              "      --disabled-fill-color: #666;\n",
              "  }\n",
              "\n",
              "  .colab-df-quickchart {\n",
              "    background-color: var(--bg-color);\n",
              "    border: none;\n",
              "    border-radius: 50%;\n",
              "    cursor: pointer;\n",
              "    display: none;\n",
              "    fill: var(--fill-color);\n",
              "    height: 32px;\n",
              "    padding: 0;\n",
              "    width: 32px;\n",
              "  }\n",
              "\n",
              "  .colab-df-quickchart:hover {\n",
              "    background-color: var(--hover-bg-color);\n",
              "    box-shadow: 0 1px 2px rgba(60, 64, 67, 0.3), 0 1px 3px 1px rgba(60, 64, 67, 0.15);\n",
              "    fill: var(--button-hover-fill-color);\n",
              "  }\n",
              "\n",
              "  .colab-df-quickchart-complete:disabled,\n",
              "  .colab-df-quickchart-complete:disabled:hover {\n",
              "    background-color: var(--disabled-bg-color);\n",
              "    fill: var(--disabled-fill-color);\n",
              "    box-shadow: none;\n",
              "  }\n",
              "\n",
              "  .colab-df-spinner {\n",
              "    border: 2px solid var(--fill-color);\n",
              "    border-color: transparent;\n",
              "    border-bottom-color: var(--fill-color);\n",
              "    animation:\n",
              "      spin 1s steps(1) infinite;\n",
              "  }\n",
              "\n",
              "  @keyframes spin {\n",
              "    0% {\n",
              "      border-color: transparent;\n",
              "      border-bottom-color: var(--fill-color);\n",
              "      border-left-color: var(--fill-color);\n",
              "    }\n",
              "    20% {\n",
              "      border-color: transparent;\n",
              "      border-left-color: var(--fill-color);\n",
              "      border-top-color: var(--fill-color);\n",
              "    }\n",
              "    30% {\n",
              "      border-color: transparent;\n",
              "      border-left-color: var(--fill-color);\n",
              "      border-top-color: var(--fill-color);\n",
              "      border-right-color: var(--fill-color);\n",
              "    }\n",
              "    40% {\n",
              "      border-color: transparent;\n",
              "      border-right-color: var(--fill-color);\n",
              "      border-top-color: var(--fill-color);\n",
              "    }\n",
              "    60% {\n",
              "      border-color: transparent;\n",
              "      border-right-color: var(--fill-color);\n",
              "    }\n",
              "    80% {\n",
              "      border-color: transparent;\n",
              "      border-right-color: var(--fill-color);\n",
              "      border-bottom-color: var(--fill-color);\n",
              "    }\n",
              "    90% {\n",
              "      border-color: transparent;\n",
              "      border-bottom-color: var(--fill-color);\n",
              "    }\n",
              "  }\n",
              "</style>\n",
              "\n",
              "  <script>\n",
              "    async function quickchart(key) {\n",
              "      const quickchartButtonEl =\n",
              "        document.querySelector('#' + key + ' button');\n",
              "      quickchartButtonEl.disabled = true;  // To prevent multiple clicks.\n",
              "      quickchartButtonEl.classList.add('colab-df-spinner');\n",
              "      try {\n",
              "        const charts = await google.colab.kernel.invokeFunction(\n",
              "            'suggestCharts', [key], {});\n",
              "      } catch (error) {\n",
              "        console.error('Error during call to suggestCharts:', error);\n",
              "      }\n",
              "      quickchartButtonEl.classList.remove('colab-df-spinner');\n",
              "      quickchartButtonEl.classList.add('colab-df-quickchart-complete');\n",
              "    }\n",
              "    (() => {\n",
              "      let quickchartButtonEl =\n",
              "        document.querySelector('#df-cdb3ac2b-2de7-4c06-9961-8231e7f9f4c2 button');\n",
              "      quickchartButtonEl.style.display =\n",
              "        google.colab.kernel.accessAllowed ? 'block' : 'none';\n",
              "    })();\n",
              "  </script>\n",
              "</div>\n",
              "    </div>\n",
              "  </div>\n"
            ]
          },
          "metadata": {},
          "execution_count": 18
        }
      ]
    },
    {
      "cell_type": "markdown",
      "source": [
        "### **Analyze the data**"
      ],
      "metadata": {
        "id": "Sm9jCztxNcjU"
      }
    },
    {
      "cell_type": "code",
      "source": [
        "obj.analyze_data()"
      ],
      "metadata": {
        "id": "guVG3bU7NdFo",
        "colab": {
          "base_uri": "https://localhost:8080/"
        },
        "outputId": "31fac75f-7b7b-42ac-f93f-d41cf1a0eb85"
      },
      "execution_count": 19,
      "outputs": [
        {
          "output_type": "stream",
          "name": "stdout",
          "text": [
            "_________________________\n",
            "Data Point 1\n",
            "Summary:\n",
            "Mushy\n",
            "Full Text:\n",
            "The flavors are good.  However, I do not see any differce between this and Oaker Oats brand - they are both mushy.\n",
            "_________________________\n",
            "Data Point 2\n",
            "Summary:\n",
            "Delicious product!\n",
            "Full Text:\n",
            "I can remember buying this candy as a kid and the quality hasn't dropped in all these years. Still a superb product you won't be disappointed with.\n",
            "_________________________\n",
            "Data Point 3\n",
            "Summary:\n",
            "Forget Molecular Gastronomy - this stuff rockes a coffee creamer!\n",
            "Full Text:\n",
            "I know the product title says Molecular Gastronomy, but don't let that scare you off.  I have been looking for this for a while now, not for food science, but for something more down to earth.  I use it to make my own coffee creamer.<br /><br />I have to have my coffee blonde and sweet - but the flavored creamers are full of the bad kinds of fat, and honestly, I hate to use manufactured \"food\" items.  I really don't think they are good for the body.  On the other hand, I hate using cold milk or cream, because I like HOT coffee.<br /><br />I stumbled across this on Amazon one day and got the idea of making my own creamer.  I also bought low-fat (non-instant) milk powder and regular milk powder. The non-instant lowfat milk is a little sweeter and tastes fresher than regular instant low-fat milk, but does not dissolve good in cold water - which is not a problem for hot coffee.  You will have to play with the ratios - I would not do just the heavy cream, it made the coffee too rich. Also, I think the powder is too expensive to just use on it's own. I like mixing 1/3 of each together.<br /><br />For flavoring, I bough cocoa bean powder, vanilla bean powder, and caster (superfine) sugar.  I mix up small batches along with spices like cinnamon and nutmeg to make my own flavored creamers.  If you wanted, you could use a fake sweetner powder instead.  I make up small amounts that I store in jelly canning jars. I also use my little food chopper/food processor to blend everything, so the sugar is not heavier and sinks to the bottom.  Let it settle for a bit before opening the top though.<br /><br />This stuff tastes WAY better than the storebought creamers and it is fun to experiment and come up with your own flavors.  I am going to try using some essential oils next and see if I can get a good chocolate/orange mix.<br /><br />All of the ingredients I mentioned are here online.  Take the time to experiment.  Maybe you don't use any low-fat milk. Or don't add any flavorings.  It is up to you.  Also, would make great housewarming/host(ess) gifts.<br /><br />I am sure other molecular people will be able to tell you more of what you can do with it, and I am sure I will experiment with it in cooking - but the main reason I bought it was to make my own creamer and it worked out great.\n",
            "_________________________\n",
            "Data Point 4\n",
            "Summary:\n",
            "Home delivered twizlers\n",
            "Full Text:\n",
            "Candy was delivered very fast and was purchased at a reasonable price.  I was home bound and unable to get to a store so this was perfect for me.\n",
            "_________________________\n",
            "Data Point 5\n",
            "Summary:\n",
            "Great food!\n",
            "Full Text:\n",
            "We have three dogs and all of them love this food!  We bought it specifically for one of our dogs who has food allergies and it works great for him, no more hot spots or tummy problems.<br />I LOVE that it ships right to our door with free shipping.\n"
          ]
        }
      ]
    },
    {
      "cell_type": "code",
      "source": [
        "contractions = {\n",
        "\"ain't\": \"am not\",\n",
        "\"aren't\": \"are not\",\n",
        "\"can't\": \"cannot\",\n",
        "\"can't've\": \"cannot have\",\n",
        "\"'cause\": \"because\",\n",
        "\"could've\": \"could have\",\n",
        "\"couldn't\": \"could not\",\n",
        "\"couldn't've\": \"could not have\",\n",
        "\"didn't\": \"did not\",\n",
        "\"doesn't\": \"does not\",\n",
        "\"don't\": \"do not\",\n",
        "\"hadn't\": \"had not\",\n",
        "\"hadn't've\": \"had not have\",\n",
        "\"hasn't\": \"has not\",\n",
        "\"haven't\": \"have not\",\n",
        "\"he'd\": \"he would\",\n",
        "\"he'd've\": \"he would have\",\n",
        "\"he'll\": \"he will\",\n",
        "\"he's\": \"he is\",\n",
        "\"how'd\": \"how did\",\n",
        "\"how'll\": \"how will\",\n",
        "\"how's\": \"how is\",\n",
        "\"i'd\": \"i would\",\n",
        "\"i'll\": \"i will\",\n",
        "\"i'm\": \"i am\",\n",
        "\"i've\": \"i have\",\n",
        "\"isn't\": \"is not\",\n",
        "\"it'd\": \"it would\",\n",
        "\"it'll\": \"it will\",\n",
        "\"it's\": \"it is\",\n",
        "\"let's\": \"let us\",\n",
        "\"ma'am\": \"madam\",\n",
        "\"mayn't\": \"may not\",\n",
        "\"might've\": \"might have\",\n",
        "\"mightn't\": \"might not\",\n",
        "\"must've\": \"must have\",\n",
        "\"mustn't\": \"must not\",\n",
        "\"needn't\": \"need not\",\n",
        "\"oughtn't\": \"ought not\",\n",
        "\"shan't\": \"shall not\",\n",
        "\"sha'n't\": \"shall not\",\n",
        "\"she'd\": \"she would\",\n",
        "\"she'll\": \"she will\",\n",
        "\"she's\": \"she is\",\n",
        "\"should've\": \"should have\",\n",
        "\"shouldn't\": \"should not\",\n",
        "\"that'd\": \"that would\",\n",
        "\"that's\": \"that is\",\n",
        "\"there'd\": \"there had\",\n",
        "\"there's\": \"there is\",\n",
        "\"they'd\": \"they would\",\n",
        "\"they'll\": \"they will\",\n",
        "\"they're\": \"they are\",\n",
        "\"they've\": \"they have\",\n",
        "\"wasn't\": \"was not\",\n",
        "\"we'd\": \"we would\",\n",
        "\"we'll\": \"we will\",\n",
        "\"we're\": \"we are\",\n",
        "\"we've\": \"we have\",\n",
        "\"weren't\": \"were not\",\n",
        "\"what'll\": \"what will\",\n",
        "\"what're\": \"what are\",\n",
        "\"what's\": \"what is\",\n",
        "\"what've\": \"what have\",\n",
        "\"where'd\": \"where did\",\n",
        "\"where's\": \"where is\",\n",
        "\"who'll\": \"who will\",\n",
        "\"who's\": \"who is\",\n",
        "\"won't\": \"will not\",\n",
        "\"wouldn't\": \"would not\",\n",
        "\"you'd\": \"you would\",\n",
        "\"you'll\": \"you will\",\n",
        "\"you're\": \"you are\"\n",
        "}"
      ],
      "metadata": {
        "id": "a2X7lA1KNu39"
      },
      "execution_count": 20,
      "outputs": []
    },
    {
      "cell_type": "code",
      "source": [
        "class Data_cleaning:\n",
        "    def __init__(self):\n",
        "        self.clean_summaries = []\n",
        "        self.clean_texts = []\n",
        "\n",
        "    def clean_text(self, text, remove_stopwords = False):\n",
        "        \"\"\"\n",
        "        Defines a series of cleaning operations\n",
        "        \"\"\"\n",
        "        text = text.lower()\n",
        "\n",
        "        if True:\n",
        "            text = text.split()\n",
        "            new_text = []\n",
        "            for word in text:\n",
        "                if word in contractions:\n",
        "                    new_text.append(contractions[word])\n",
        "                else:\n",
        "                    new_text.append(word)\n",
        "            text = \" \".join(new_text)\n",
        "\n",
        "        text = re.sub(r'https?:\\/\\/.*[\\r\\n]*', '', text, flags=re.MULTILINE)\n",
        "        text = re.sub(r'\\<a href', ' ', text)\n",
        "        text = re.sub(r'&amp;', '', text)\n",
        "        text = re.sub(r'[_\"\\-;%()|+&=*%.,!?:#$@\\[\\]/]', ' ', text)\n",
        "        text = re.sub(r'<br />', ' ', text)\n",
        "        text = re.sub(r'<br >', ' ', text)\n",
        "        text = re.sub(r'<br  >', ' ', text)\n",
        "        text = re.sub(r'\\'', ' ', text)\n",
        "\n",
        "        # Optionally, remove stop words\n",
        "        if remove_stopwords:\n",
        "            text = text.split()\n",
        "            stops = set(stopwords.words(\"english\"))\n",
        "            text = [w for w in text if not w in stops]\n",
        "            text = \" \".join(text)\n",
        "\n",
        "        return text\n",
        "\n",
        "    def clean(self, data):\n",
        "        \"\"\"\n",
        "        Applies the clean_text() to the entire dataset\n",
        "        \"\"\"\n",
        "        for summary in data.Summary:\n",
        "            self.clean_summaries.append(self.clean_text(summary))\n",
        "\n",
        "        print(\"Summaries are complete.\")\n",
        "\n",
        "        for text in data.Text:\n",
        "            self.clean_texts.append(self.clean_text(text))\n",
        "\n",
        "        print(\"Texts are complete.\")\n",
        "\n",
        "        return self.clean_summaries, self.clean_texts"
      ],
      "metadata": {
        "id": "HkWnMf5eNzwP"
      },
      "execution_count": 21,
      "outputs": []
    },
    {
      "cell_type": "code",
      "source": [
        "# import nltk\n",
        "# nltk.download('stopwords')\n",
        "clean_obj = Data_cleaning()\n",
        "clean_summaries, clean_texts = clean_obj.clean(data)"
      ],
      "metadata": {
        "id": "8Ca2hsnXN5Wz",
        "colab": {
          "base_uri": "https://localhost:8080/"
        },
        "outputId": "c01c0326-f180-4af0-de1f-588c5b1c3c48"
      },
      "execution_count": 22,
      "outputs": [
        {
          "output_type": "stream",
          "name": "stdout",
          "text": [
            "Summaries are complete.\n",
            "Texts are complete.\n"
          ]
        }
      ]
    },
    {
      "cell_type": "code",
      "source": [
        "np.random.seed(1)\n",
        "\n",
        "for sr_no, i in enumerate(np.random.randint(10, 100, size = 5)):\n",
        "    print(\"_________________________\")\n",
        "    print(\"Data Point #{0}\".format(sr_no + 1))\n",
        "    print(\"Summary:\")\n",
        "    print(clean_summaries[i])\n",
        "    print(\"Full Text:\")\n",
        "    print(clean_texts[i])"
      ],
      "metadata": {
        "id": "UxbBr0SqN6SJ",
        "colab": {
          "base_uri": "https://localhost:8080/"
        },
        "outputId": "b5dc3674-bfe2-4f2e-855a-bf51eab8d815"
      },
      "execution_count": 23,
      "outputs": [
        {
          "output_type": "stream",
          "name": "stdout",
          "text": [
            "_________________________\n",
            "Data Point #1\n",
            "Summary:\n",
            "mushy\n",
            "Full Text:\n",
            "the flavors are good  however  i do not see any differce between this and oaker oats brand   they are both mushy \n",
            "_________________________\n",
            "Data Point #2\n",
            "Summary:\n",
            "delicious product \n",
            "Full Text:\n",
            "i can remember buying this candy as a kid and the quality has not dropped in all these years  still a superb product you will not be disappointed with \n",
            "_________________________\n",
            "Data Point #3\n",
            "Summary:\n",
            "forget molecular gastronomy   this stuff rockes a coffee creamer \n",
            "Full Text:\n",
            "i know the product title says molecular gastronomy  but do not let that scare you off  i have been looking for this for a while now  not for food science  but for something more down to earth  i use it to make my own coffee creamer   i have to have my coffee blonde and sweet   but the flavored creamers are full of the bad kinds of fat  and honestly  i hate to use manufactured  food  items  i really do not think they are good for the body  on the other hand  i hate using cold milk or cream  because i like hot coffee   i stumbled across this on amazon one day and got the idea of making my own creamer  i also bought low fat  non instant  milk powder and regular milk powder  the non instant lowfat milk is a little sweeter and tastes fresher than regular instant low fat milk  but does not dissolve good in cold water   which is not a problem for hot coffee  you will have to play with the ratios   i would not do just the heavy cream  it made the coffee too rich  also  i think the powder is too expensive to just use on it is own  i like mixing 1 3 of each together   for flavoring  i bough cocoa bean powder  vanilla bean powder  and caster  superfine  sugar  i mix up small batches along with spices like cinnamon and nutmeg to make my own flavored creamers  if you wanted  you could use a fake sweetner powder instead  i make up small amounts that i store in jelly canning jars  i also use my little food chopper food processor to blend everything  so the sugar is not heavier and sinks to the bottom  let it settle for a bit before opening the top though   this stuff tastes way better than the storebought creamers and it is fun to experiment and come up with your own flavors  i am going to try using some essential oils next and see if i can get a good chocolate orange mix   all of the ingredients i mentioned are here online  take the time to experiment  maybe you do not use any low fat milk  or do not add any flavorings  it is up to you  also  would make great housewarming host ess  gifts   i am sure other molecular people will be able to tell you more of what you can do with it  and i am sure i will experiment with it in cooking   but the main reason i bought it was to make my own creamer and it worked out great \n",
            "_________________________\n",
            "Data Point #4\n",
            "Summary:\n",
            "home delivered twizlers\n",
            "Full Text:\n",
            "candy was delivered very fast and was purchased at a reasonable price  i was home bound and unable to get to a store so this was perfect for me \n",
            "_________________________\n",
            "Data Point #5\n",
            "Summary:\n",
            "great food \n",
            "Full Text:\n",
            "we have three dogs and all of them love this food  we bought it specifically for one of our dogs who has food allergies and it works great for him  no more hot spots or tummy problems  i love that it ships right to our door with free shipping \n"
          ]
        }
      ]
    }
  ]
}